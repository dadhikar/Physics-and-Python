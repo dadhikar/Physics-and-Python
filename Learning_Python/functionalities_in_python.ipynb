{
 "cells": [
  {
   "cell_type": "code",
   "execution_count": 1,
   "metadata": {},
   "outputs": [],
   "source": [
    "def simpleGeneratorFun(): \n",
    "    yield 1\n",
    "    yield 2\n",
    "    yield 3"
   ]
  },
  {
   "cell_type": "code",
   "execution_count": 2,
   "metadata": {},
   "outputs": [
    {
     "name": "stdout",
     "output_type": "stream",
     "text": [
      "0\n",
      "1\n",
      "2\n",
      "3\n",
      "4\n",
      "5\n",
      "6\n",
      "7\n",
      "8\n",
      "9\n"
     ]
    }
   ],
   "source": [
    "def print_integer():\n",
    "    i = 0\n",
    "    while i<10:\n",
    "        yield i\n",
    "        i +=1\n",
    "for value in print_integer():\n",
    "    if value >100:\n",
    "        break\n",
    "    else:\n",
    "        print(value)"
   ]
  },
  {
   "cell_type": "code",
   "execution_count": 9,
   "metadata": {},
   "outputs": [
    {
     "name": "stdout",
     "output_type": "stream",
     "text": [
      "@@@@@@@@@@@@@@@@@@@@\n",
      "time is 0.1 and value is 0.5819366913123759\n",
      "@@@@@@@@@@@@@@@@@@@@\n",
      "time is 0.2 and value is 0.9322243355122539\n",
      "@@@@@@@@@@@@@@@@@@@@\n",
      "time is 0.30000000000000004 and value is 0.9229485483908357\n",
      "@@@@@@@@@@@@@@@@@@@@\n",
      "time is 0.4 and value is 0.5647378628920922\n",
      "@@@@@@@@@@@@@@@@@@@@\n",
      "time is 0.5 and value is 1.1649200699695783e-16\n",
      "@@@@@@@@@@@@@@@@@@@@\n",
      "time is 0.6 and value is -0.5535553039729209\n",
      "@@@@@@@@@@@@@@@@@@@@\n",
      "time is 0.7 and value is -0.8867592181748819\n",
      "@@@@@@@@@@@@@@@@@@@@\n",
      "time is 0.7999999999999999 and value is -0.8779358165295842\n",
      "@@@@@@@@@@@@@@@@@@@@\n",
      "time is 0.8999999999999999 and value is -0.5371952723126087\n",
      "@@@@@@@@@@@@@@@@@@@@\n",
      "time is 0.9999999999999999 and value is -1.025278317586019e-15\n"
     ]
    }
   ],
   "source": [
    "# yield generator in python\n",
    "\n",
    "import matplotlib.pyplot as plt\n",
    "import numpy as np\n",
    "def data_gen():\n",
    "    t = 0.0\n",
    "    cnt = 0\n",
    "    while cnt < 10:\n",
    "        cnt += 1\n",
    "        t += 0.1\n",
    "        yield t, np.sin(2*np.pi*t) * np.exp(-t/10.)\n",
    "#fig, ax = plt.subplots()\n",
    "for time, value in data_gen():\n",
    "    print('@'*20)\n",
    "    print(r'time is {} and value is {}'.format(time, value))\n",
    "    \n",
    "       \n",
    "    "
   ]
  },
  {
   "cell_type": "code",
   "execution_count": 26,
   "metadata": {},
   "outputs": [
    {
     "data": {
      "text/plain": [
       "24"
      ]
     },
     "execution_count": 26,
     "metadata": {},
     "output_type": "execute_result"
    }
   ],
   "source": [
    "from functools import partial\n",
    "def sum_multiply(a,b, c):\n",
    "    return 4*a + 5*b + c \n",
    "p = partial(sum_multiply, 2)\n",
    "p(3,1)\n",
    "\n"
   ]
  },
  {
   "cell_type": "code",
   "execution_count": 47,
   "metadata": {},
   "outputs": [
    {
     "name": "stdout",
     "output_type": "stream",
     "text": [
      "Function value at 0.0 s is 0.0\n",
      "Function value at 0.10526315789473684 s is 0.6142127126896678\n",
      "Function value at 0.21052631578947367 s is 0.9694002659393304\n",
      "Function value at 0.3157894736842105 s is 0.9157733266550575\n",
      "Function value at 0.42105263157894735 s is 0.4759473930370737\n",
      "Function value at 0.5263157894736842 s is -0.1645945902807338\n",
      "Function value at 0.631578947368421 s is -0.7357239106731313\n",
      "Function value at 0.7368421052631579 s is -0.9965844930066698\n",
      "Function value at 0.8421052631578947 s is -0.8371664782625288\n",
      "Function value at 0.9473684210526315 s is -0.32469946920468373\n",
      "Function value at 1.0526315789473684 s is 0.3246994692046833\n",
      "Function value at 1.1578947368421053 s is 0.8371664782625285\n",
      "Function value at 1.263157894736842 s is 0.99658449300667\n",
      "Function value at 1.3684210526315788 s is 0.7357239106731323\n",
      "Function value at 1.4736842105263157 s is 0.1645945902807347\n",
      "Function value at 1.5789473684210527 s is -0.47594739303707284\n",
      "Function value at 1.6842105263157894 s is -0.9157733266550572\n",
      "Function value at 1.789473684210526 s is -0.969400265939331\n",
      "Function value at 1.894736842105263 s is -0.6142127126896683\n",
      "Function value at 2.0 s is -4.898587196589413e-16\n"
     ]
    }
   ],
   "source": [
    "# partial function in python\n",
    "import sys\n",
    "from functools import partial\n",
    "import numpy as np\n",
    "\n",
    "def sinusoidal(a, w, t, phi):\n",
    "    return a*np.sin(2*np.pi*w*t + phi)\n",
    "func_t = partial(sinusoidal, a=1, w=1, phi=0)\n",
    "#np.linspace(0, 2, 20, True)\n",
    "#sys.exit()\n",
    "for t in np.linspace(0, 2, 20, True):\n",
    "    #print(round(func_t(t=t), 2))\n",
    "    print(r'Function value at {} s is {}'.format(t, func_t(t=t)))"
   ]
  },
  {
   "cell_type": "code",
   "execution_count": 3,
   "metadata": {},
   "outputs": [
    {
     "name": "stdout",
     "output_type": "stream",
     "text": [
      "Bandana Neupane\n",
      "Medicine\n",
      "Senior\n",
      "29\n",
      "Nepalese\n"
     ]
    },
    {
     "data": {
      "text/plain": [
       "OrderedDict([('fullname', 'Dash'),\n",
       "             ('department', 'Physics'),\n",
       "             ('year', 'Final'),\n",
       "             ('age', 29),\n",
       "             ('nationality', 'Nepalese')])"
      ]
     },
     "execution_count": 3,
     "metadata": {},
     "output_type": "execute_result"
    }
   ],
   "source": [
    "# namedtuple in python\n",
    "\n",
    "from collections import namedtuple\n",
    "\n",
    "student = namedtuple('student', ('fullname', 'department', 'year', 'age', 'nationality'))\n",
    "student =student(fullname='Bandana Neupane', department='Medicine', year='Senior', age=29, nationality='Nepalese')\n",
    "for value in student:\n",
    "    print(value)\n",
    "    \n",
    "student_ID = ['Dash', 'Physics', 'Final', 29, 'Nepalese'] \n",
    "student1 = student._make(student_ID)\n",
    "student1._asdict()"
   ]
  },
  {
   "cell_type": "code",
   "execution_count": 4,
   "metadata": {},
   "outputs": [
    {
     "name": "stdout",
     "output_type": "stream",
     "text": [
      "0\n",
      "1\n",
      "2\n",
      "3\n",
      "4\n"
     ]
    }
   ],
   "source": [
    "for i in range(0, 5):\n",
    "    print(i)\n",
    "    "
   ]
  },
  {
   "cell_type": "code",
   "execution_count": 10,
   "metadata": {},
   "outputs": [
    {
     "data": {
      "text/plain": [
       "(100,)"
      ]
     },
     "execution_count": 10,
     "metadata": {},
     "output_type": "execute_result"
    }
   ],
   "source": [
    "t = 100, 200, 2300, 'dash'\n",
    "type(t)\n",
    "plot= 100,\n",
    "plot"
   ]
  },
  {
   "cell_type": "code",
   "execution_count": 17,
   "metadata": {},
   "outputs": [
    {
     "data": {
      "text/plain": [
       "int"
      ]
     },
     "execution_count": 17,
     "metadata": {},
     "output_type": "execute_result"
    }
   ],
   "source": [
    "x, = [1, ]\n",
    "type(x)"
   ]
  },
  {
   "cell_type": "code",
   "execution_count": 17,
   "metadata": {},
   "outputs": [
    {
     "name": "stdout",
     "output_type": "stream",
     "text": [
      "4400\n",
      "4400\n",
      "5400\n",
      "5400\n",
      "4800\n",
      "4800\n",
      "4400\n",
      "4400\n",
      "4060\n",
      "4060\n",
      "3850\n",
      "3850\n",
      "3640\n",
      "3640\n",
      "3480\n",
      "3480\n",
      "3340\n",
      "3340\n",
      "3180\n",
      "3180\n",
      "3060\n",
      "3060\n",
      "3000\n",
      "3000\n",
      "2700\n",
      "2700\n",
      "1110\n",
      "1110\n",
      "1110\n",
      "1110\n",
      "1110\n",
      "1110\n",
      "1140\n",
      "1140\n",
      "1005\n",
      "1005\n",
      "1000\n",
      "1000\n",
      "1000\n",
      "1000\n",
      "1000\n",
      "1000\n",
      "1000\n",
      "1000\n",
      "1000\n",
      "1000\n",
      "1000\n",
      "1000\n",
      "1010\n",
      "1010\n",
      "1012\n",
      "1012\n",
      "1024\n",
      "1024\n",
      "1034\n",
      "1034\n",
      "1035\n",
      "1035\n",
      "1036\n",
      "1036\n",
      "1036\n",
      "1036\n",
      "1036\n",
      "1036\n",
      "1036\n",
      "1036\n",
      "1036\n",
      "1036\n",
      "1036\n",
      "1036\n",
      "1036\n",
      "1036\n"
     ]
    }
   ],
   "source": [
    "with open('data.txt', 'r', encoding='ISO-8859-1') as myfile:\n",
    "    readlines = myfile.read()\n",
    "    split_lines = readlines.split('\\n')\n",
    "    for lines in split_lines:\n",
    "        print(lines)\n",
    "        print(lines)\n"
   ]
  },
  {
   "cell_type": "code",
   "execution_count": 20,
   "metadata": {},
   "outputs": [
    {
     "name": "stdout",
     "output_type": "stream",
     "text": [
      "0.1\n"
     ]
    }
   ],
   "source": [
    "for i in range(1):\n",
    "    print(0.1)"
   ]
  },
  {
   "cell_type": "code",
   "execution_count": 63,
   "metadata": {},
   "outputs": [
    {
     "data": {
      "image/png": "[encoded data removed]",
      "text/plain": [
       "<Figure size 432x288 with 1 Axes>"
      ]
     },
     "metadata": {
      "needs_background": "light"
     },
     "output_type": "display_data"
    }
   ],
   "source": [
    "import numpy as np\n",
    "import matplotlib.pyplot as plt\n",
    "import matplotlib as mpl\n",
    "mpl.rcParams['xtick.direction'] = 'in'\n",
    "mpl.rcParams['ytick.direction'] = 'in'\n",
    "mpl.rcParams['xtick.top'] = True\n",
    "mpl.rcParams['ytick.right'] = True\n",
    "\n",
    "\n",
    "v, alpha, alpha_err = np.loadtxt('data.txt', delimiter='\\t', usecols=[0,1,2], skiprows=1, unpack=True)\n",
    "\n",
    "plt.scatter(v, alpha, marker='o', s=100, alpha=1.0, c='g', label= 'T = 230 K')\n",
    "plt.errorbar(v, alpha, yerr=alpha_err, xerr=None, fmt='o', ecolor='k', elinewidth=2, capsize=5,\n",
    "             barsabove=True, lolims=False, uplims=False, xlolims=False, xuplims=False, errorevery=1,\n",
    "             capthick=None)\n",
    "plt.xlim(-0.1, 5.1)\n",
    "plt.ylim(0.9, 2.0)\n",
    "plt.hlines(y =1.0, xmin=-0.1, xmax=5.1, colors='r', linestyles='--', label=r'$\\alpha$ =1 line')\n",
    "plt.xlabel(r'Voltage [V]', fontsize=14)\n",
    "plt.ylabel(r'$\\alpha$ [no. unit]', fontsize=14 )\n",
    "plt.legend(loc='best')\n",
    "plt.savefig('alpha_230.png', dpi=150, facecolor='w', edgecolor='w',\n",
    "        orientation='portrait', papertype=None, format=None,\n",
    "        transparent=False, bbox_inches=None, pad_inches=0.1, metadata=None)\n",
    "plt.show()"
   ]
  },
  {
   "cell_type": "code",
   "execution_count": null,
   "metadata": {},
   "outputs": [],
   "source": []
  }
 ],
 "metadata": {
  "kernelspec": {
   "display_name": "Python 3",
   "language": "python",
   "name": "python3"
  },
  "language_info": {
   "codemirror_mode": {
    "name": "ipython",
    "version": 3
   },
   "file_extension": ".py",
   "mimetype": "text/x-python",
   "name": "python",
   "nbconvert_exporter": "python",
   "pygments_lexer": "ipython3",
   "version": "3.7.6"
  }
 },
 "nbformat": 4,
 "nbformat_minor": 4
}
