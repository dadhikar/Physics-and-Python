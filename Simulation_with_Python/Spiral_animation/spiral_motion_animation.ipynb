{
 "cells": [
  {
   "cell_type": "code",
   "execution_count": null,
   "metadata": {},
   "outputs": [],
   "source": [
    "\"\"\"Created on Sun May 10 17:26:25 2020 @author: dadhikar\"\"\"\n",
    "\n",
    "import sys\n",
    "from collections import namedtuple\n",
    "from functools import partial\n",
    "import numpy as np\n",
    "import matplotlib.pyplot as plt\n",
    "import matplotlib.animation as animation"
   ]
  },
  {
   "cell_type": "code",
   "execution_count": null,
   "metadata": {},
   "outputs": [],
   "source": [
    "# create figure, a top level container\n",
    "fig = plt.figure()\n",
    "# create axes object as ax which acts as a subplot\n",
    "ax = plt.axes()\n",
    "ax.set_xlim([-20, 20])\n",
    "ax.set_ylim([-20, 20])\n",
    "ax.set_xlabel(r'X')\n",
    "ax.set_ylabel(r'Y')\n",
    "# create a plot element-line\n",
    "line, = ax.plot([], [], lw=1.5, color='darkcyan')\n",
    "\n",
    "\n",
    "def init_frame():\n",
    "    \"\"\"\n",
    "    Animator calls init_frame to create the first frame\n",
    "    \"\"\"\n",
    "    line.set_data([], [])\n",
    "    return line,\n",
    "\n",
    "\n",
    "# creating lists of x any y values\n",
    "x_data = []\n",
    "y_data = []\n",
    "\n",
    "\n",
    "def animate_function(i):\n",
    "    \"\"\"\n",
    "    each frame will be created by calling the animate_function again and\n",
    "    again. The total number of calls will be determined by the frame number\n",
    "    \"\"\"\n",
    "    t = 0.05*i\n",
    "    x = t**(0.5)*np.cos(t)  # Fermat Spiral\n",
    "    y = t**(0.5)*np.sin(t)\n",
    "    # appeding x and y data to the lists\n",
    "    x_data.append(x)\n",
    "    y_data.append(y)\n",
    "    # update x and y axes data on each frame\n",
    "    line.set_data(x_data, y_data)\n",
    "    return line,\n",
    "\n",
    "\n",
    "animation = animation.FuncAnimation(fig=fig, func=animate_function,\n",
    "                                    init_func=init_frame, frames=5000,\n",
    "                                    interval=10, blit=True)  \n",
    "plt.title(r'Fermat Spiral [x=r($\\phi$)*cos($\\phi$) and y=r($\\phi$)*sin($\\phi$)]',\n",
    "          fontsize=14)\n",
    "plt.axis('off')\n",
    "\n",
    "# Video metadata\n",
    "VIDEO_META = {\n",
    "    \"title\": \"Fermat's Spiral\",\n",
    "    \"artist\": \"Dasharath Adhikari\",\n",
    "    \"genre\": \"Scientific\",\n",
    "    \"subject\": \"Simulation with Python\",\n",
    "    \"copyright\": \"Dasharath 1.0\",\n",
    "}\n",
    "animation.save('fermat_spiral.mp4', writer='ffmpeg', fps=100, dpi=100,\n",
    "               metadata=VIDEO_META)\n",
    "plt.show()"
   ]
  },
  {
   "cell_type": "code",
   "execution_count": null,
   "metadata": {},
   "outputs": [],
   "source": []
  }
 ],
 "metadata": {
  "kernelspec": {
   "display_name": "Python 3",
   "language": "python",
   "name": "python3"
  },
  "language_info": {
   "codemirror_mode": {
    "name": "ipython",
    "version": 3
   },
   "file_extension": ".py",
   "mimetype": "text/x-python",
   "name": "python",
   "nbconvert_exporter": "python",
   "pygments_lexer": "ipython3",
   "version": "3.7.6"
  }
 },
 "nbformat": 4,
 "nbformat_minor": 4
}
