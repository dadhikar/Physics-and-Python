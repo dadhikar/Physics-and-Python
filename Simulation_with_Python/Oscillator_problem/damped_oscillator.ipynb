{
 "cells": [
  {
   "cell_type": "code",
   "execution_count": 1,
   "metadata": {},
   "outputs": [],
   "source": [
    "\"\"\"\n",
    "Created on Sat May  9 18:59:33 2020 @author: dadhikar\n",
    "\"\"\"\n",
    "import sys\n",
    "from collections import namedtuple\n",
    "from functools import partial\n",
    "import numpy as np\n",
    "import matplotlib.pyplot as plt\n",
    "import matplotlib.animation as animation"
   ]
  },
  {
   "cell_type": "code",
   "execution_count": 3,
   "metadata": {},
   "outputs": [
    {
     "data": {
      "image/png": "[encoded data removed]",
      "text/plain": [
       "<Figure size 500x500 with 1 Axes>"
      ]
     },
     "metadata": {
      "needs_background": "light"
     },
     "output_type": "display_data"
    }
   ],
   "source": [
    "# create the plot\n",
    "fig, ax = plt.subplots(figsize=(5, 5), dpi=100)\n",
    "\n",
    "# 2. Initialize the artists with empty data\n",
    "Artists = namedtuple(\"Artists\", ['xy_data'])\n",
    "\n",
    "\n",
    "def init_fig(fig, ax, artists):\n",
    "    \"\"\"\n",
    "    initialize the figure, used to draw the first\n",
    "    frame for the animation.\n",
    "    \"\"\"\n",
    "    # Set the axis and plot titles\n",
    "    ax.set_title(\"Damping Oscillator\", fontsize=14)\n",
    "    ax.set_xlabel(\"time [s]\", fontsize=14)\n",
    "    ax.set_ylabel(\"Amplitude [ab. unit]\", fontsize=14)\n",
    "    ax.legend(loc='best')\n",
    "    # Set the axis range\n",
    "    # plt.xlim(3000, 10000)\n",
    "    # plt.ylim(0, 1.25e-12)\n",
    "    # Must return the list of artists, but we use a pass\n",
    "    # through so that they aren't created multiple times\n",
    "    return artists\n",
    "\n",
    "\n",
    "def step_through_frames(a, fq, phi, gamma, t_from, t_to):\n",
    "    \"\"\"\n",
    "    damped_oscillator(a, fq, phi, gamma):\n",
    "    damped harmonic oscillator\n",
    "    x = exp(-gamma*t)*[a*sin(omega*t - phi)]\n",
    "    \"\"\"\n",
    "    count = 0.0\n",
    "    while count <= 1000:\n",
    "        count += 1\n",
    "        for t in range(t_from, t_to, 0.01):\n",
    "            yield (t, np.exp(-gamma * t) * a * np.sin(2 * np.pi * fq * t - phi))\n",
    "\n",
    "\n",
    "def update_artists(frames, artists):\n",
    "    \"\"\"\n",
    "    Update artists with data from each frame.\n",
    "    \"\"\"\n",
    "    # flux, day = frames\n",
    "    time, amplitude = frames\n",
    "\n",
    "    artists.xy_data.set_data(time, amplitude)\n",
    "\n",
    "\n",
    "# Set the artists\n",
    "artists = Artists(plt.plot([], [], animated=True, label='t', lw=2)[0],)\n",
    "\n",
    "\n",
    "# Apply the three plotting functions written above\n",
    "init = partial(init_fig, fig=fig, ax=ax, artists=artists)\n",
    "partial_1 = partial(step_through_frames, a=2, fq=2.0, phi=0.0, gamma=0.1)\n",
    "step = partial(partial_1, t_from=0, t_to=20)\n",
    "update = partial(update_artists, artists=artists)\n",
    "\n",
    "\n",
    "# Generate the animation\n",
    "anim = animation.FuncAnimation(\n",
    "    fig=fig,\n",
    "    func=update,\n",
    "    frames=step,\n",
    "    init_func=init,\n",
    "    save_count=150,  # len(list(step())),\n",
    "    repeat_delay=1000,\n",
    ")\n",
    "\n",
    "\n",
    "# Video metadata\n",
    "VIDEO_META = {\n",
    "    \"title\": \"Supernova 2011fe Spectra Time Series\",\n",
    "    \"artist\": \"Alexander Gude\",\n",
    "    \"genre\": \"Scientific\",\n",
    "    \"subject\": \"A spectral time series of the explosion of supernova 2011fe\",\n",
    "    \"copyright\": \"CC-BY-SA 4.0\",\n",
    "}\n",
    "\n",
    "\n",
    "# Save the animation\n",
    "# anim.save('damped_oscillator.mp4', fps=24,\n",
    "#          extra_args=['-vcodec', 'libx264'], dpi=300, metadata=VIDEO_META)\n",
    "plt.show()"
   ]
  },
  {
   "cell_type": "code",
   "execution_count": null,
   "metadata": {},
   "outputs": [],
   "source": []
  }
 ],
 "metadata": {
  "kernelspec": {
   "display_name": "Python 3",
   "language": "python",
   "name": "python3"
  },
  "language_info": {
   "codemirror_mode": {
    "name": "ipython",
    "version": 3
   },
   "file_extension": ".py",
   "mimetype": "text/x-python",
   "name": "python",
   "nbconvert_exporter": "python",
   "pygments_lexer": "ipython3",
   "version": "3.7.6"
  }
 },
 "nbformat": 4,
 "nbformat_minor": 4
}
