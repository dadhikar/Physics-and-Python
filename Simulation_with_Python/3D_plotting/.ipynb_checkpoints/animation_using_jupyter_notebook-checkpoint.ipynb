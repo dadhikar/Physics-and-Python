{
 "cells": [
  {
   "cell_type": "code",
   "execution_count": 1,
   "metadata": {},
   "outputs": [
    {
     "data": {
      "application/vnd.jupyter.widget-view+json": {
       "model_id": "214e5a2739c64897ae47664636c5f974",
       "version_major": 2,
       "version_minor": 0
      },
      "text/plain": [
       "VBox(children=(Figure(animation=200.0, camera=PerspectiveCamera(fov=45.0, position=(0.0, 0.0, 2.0), quaternion…"
      ]
     },
     "metadata": {},
     "output_type": "display_data"
    }
   ],
   "source": [
    "from ipyvolume import pylab\n",
    "import numpy as np\n",
    "# create 2d grids: x, y, and r\n",
    "u = np.linspace(-10, 10, 25)\n",
    "x, y = np.meshgrid(u, u)\n",
    "r = np.sqrt(x**2+y**2)\n",
    "x = x.flatten()\n",
    "y = y.flatten()\n",
    "r = r.flatten()\n",
    "# create a sequence of 15 time elements\n",
    "time = np.linspace(-2*np.pi, 2*np.pi, 100)\n",
    "z = np.array([(np.cos(r + t)) for t in time])\n",
    "#+ np.exp(-0.01*r\n",
    "pylab.figure(key=None, width=500, height=500)\n",
    "s = pylab.scatter(x, y, z, marker=\"sphere\", color = 'red', size=3)\n",
    "pylab.animation_control(s, interval=200)\n",
    "#pylab.view(azimuth=180, elevation=270, distance=None)\n",
    "pylab.style.axes_off()\n",
    "pylab.style.box_off()\n",
    "pylab.show()\n",
    "#pylab.animation_control(object, sequence_length=None, add=True, interval=200)"
   ]
  },
  {
   "cell_type": "code",
   "execution_count": 2,
   "metadata": {},
   "outputs": [
    {
     "data": {
      "application/vnd.jupyter.widget-view+json": {
       "model_id": "e4db417907544096957fe42314ca7762",
       "version_major": 2,
       "version_minor": 0
      },
      "text/plain": [
       "HBox(children=(IntSlider(value=0), IntSlider(value=0)))"
      ]
     },
     "metadata": {},
     "output_type": "display_data"
    },
    {
     "data": {
      "application/vnd.jupyter.widget-view+json": {
       "model_id": "6667c83b200a401c8f5f37e376efbcf5",
       "version_major": 2,
       "version_minor": 0
      },
      "text/plain": [
       "Output()"
      ]
     },
     "metadata": {},
     "output_type": "display_data"
    }
   ],
   "source": [
    "from __future__ import print_function\n",
    "from ipywidgets import interact, fixed, interactive, interactive_output\n",
    "import ipywidgets as widget\n",
    "from IPython.display import display\n",
    "def h(a, b):\n",
    "    display(a + b)\n",
    "    return a+b\n",
    "interactive(h, a=(0, 10, 2), b=(-5, 10, 1))\n",
    "w = interactive(h, a=(0, 10, 2), b=(-5, 10, 1))\n",
    "a = widget.IntSlider()\n",
    "b = widget.IntSlider()\n",
    "input_v = widget.HBox([a,b])\n",
    "def function(a, b):\n",
    "    display(a**2+b**2)\n",
    "    return a**2+b**2\n",
    "output_v = widget.interactive_output(function, {'a':a, 'b':b})\n",
    "display(input_v, output_v)"
   ]
  },
  {
   "cell_type": "code",
   "execution_count": 3,
   "metadata": {},
   "outputs": [
    {
     "data": {
      "application/vnd.jupyter.widget-view+json": {
       "model_id": "c219e2afeecf4da7b1f284c3c73ccf7d",
       "version_major": 2,
       "version_minor": 0
      },
      "text/plain": [
       "interactive(children=(IntSlider(value=10, description='a', max=20, min=1), IntSlider(value=2, description='b',…"
      ]
     },
     "metadata": {},
     "output_type": "display_data"
    }
   ],
   "source": [
    "%matplotlib inline\n",
    "import matplotlib.pyplot as plt\n",
    "import numpy as np\n",
    "\n",
    "def plot_function(a, b):\n",
    "    x = np.linspace(0, 5*np.pi, 200, True)\n",
    "    f_x = np.sin(a*np.pi*x) + b\n",
    "    plt.plot(x*(180/np.pi), f_x, 'r-', label ='Sine Function')\n",
    "    plt.xlabel('Angle [Degree]')\n",
    "    plt.ylabel('Sine Function')\n",
    "    plt.legend(loc='best')\n",
    "    plt.grid(True)\n",
    "    plt.show()\n",
    "\n",
    "interactive_plot = interactive(plot_function, a =(1, 20, 1), b = (0, 5, 1))\n",
    "interactive_plot"
   ]
  },
  {
   "cell_type": "code",
   "execution_count": null,
   "metadata": {},
   "outputs": [],
   "source": []
  }
 ],
 "metadata": {
  "kernelspec": {
   "display_name": "Python 3",
   "language": "python",
   "name": "python3"
  },
  "language_info": {
   "codemirror_mode": {
    "name": "ipython",
    "version": 3
   },
   "file_extension": ".py",
   "mimetype": "text/x-python",
   "name": "python",
   "nbconvert_exporter": "python",
   "pygments_lexer": "ipython3",
   "version": "3.7.6"
  }
 },
 "nbformat": 4,
 "nbformat_minor": 4
}
