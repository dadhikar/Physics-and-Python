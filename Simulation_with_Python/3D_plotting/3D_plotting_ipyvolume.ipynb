{
 "cells": [
  {
   "cell_type": "code",
   "execution_count": 1,
   "metadata": {},
   "outputs": [
    {
     "data": {
      "application/vnd.jupyter.widget-view+json": {
       "model_id": "45781bc0afcf455e972c760e99f359ba",
       "version_major": 2,
       "version_minor": 0
      },
      "text/plain": [
       "interactive(children=(FloatSlider(value=5.0, description='r', max=10.0), FloatSlider(value=5.0, description='R…"
      ]
     },
     "metadata": {},
     "output_type": "display_data"
    }
   ],
   "source": [
    "# plotting torus\n",
    "import numpy as np\n",
    "from ipyvolume import pylab\n",
    "from ipywidgets import interact, fixed, interactive, interactive_output\n",
    "import ipywidgets as widget\n",
    "\n",
    "def Torus(r, R):\n",
    "    n = 100\n",
    "    theta = np.linspace(-np.pi, np.pi, n, True)\n",
    "    phi = np.linspace(-np.pi, np.pi, n, True)\n",
    "    # equations for a torus\n",
    "    theta_mg, phi_mg = np.meshgrid(theta, phi)\n",
    "    x = (R + r*np.cos(theta_mg))*np.cos(phi_mg)\n",
    "    y = (R + r*np.cos(theta_mg))*np.sin(phi_mg)\n",
    "    z = r*np.sin(theta_mg)\n",
    "    #from matplotlib import cm\n",
    "    #colormap = cm.gnuplot\n",
    "    #znorm = z - z.min()\n",
    "    #znorm /= z.ptp()\n",
    "    #znorm.min(), znorm.max()\n",
    "    #color = colormap(znorm)\n",
    "    pylab.figure(width=350, height=350, lighting=True)\n",
    "    #pylab.plot_surface(x, y, z, color=color[...,:10], wrapx=False, wrapy=False)\n",
    "    pylab.plot_surface(x, y, z, color='red', wrapx=False, wrapy=False)\n",
    "    pylab.plot_wireframe(x, y, z, color='grey', wrapx=False, wrapy=False)\n",
    "    pylab.style.axes_off()\n",
    "    pylab.style.box_off()\n",
    "    pylab.show()\n",
    "    \n",
    "interactive_plot = interactive(Torus, r =(0, 10, 0.1), R = (0, 10, 0.1))\n",
    "interactive_plot    "
   ]
  },
  {
   "cell_type": "code",
   "execution_count": 2,
   "metadata": {},
   "outputs": [
    {
     "data": {
      "application/vnd.jupyter.widget-view+json": {
       "model_id": "3eee93ee7bf44b1899b8792c46bf6f67",
       "version_major": 2,
       "version_minor": 0
      },
      "text/plain": [
       "Scatter(color=array('blue', dtype='<U4'), color_selected=array('white', dtype='<U5'), geo='sphere', line_mater…"
      ]
     },
     "metadata": {},
     "output_type": "display_data"
    }
   ],
   "source": [
    "#scatter plot in ipyvolume\n",
    "import numpy as np\n",
    "from ipyvolume import pylab \n",
    "a, b, c = 2*np.random.random_sample((3, 2000))\n",
    "pylab.scatter(a, b, c, color='blue', size=3, marker='sphere')\n",
    "#pylab.show()"
   ]
  },
  {
   "cell_type": "code",
   "execution_count": 3,
   "metadata": {},
   "outputs": [
    {
     "data": {
      "application/vnd.jupyter.widget-view+json": {
       "model_id": "52eb11e34b464ac69d987e65f20ed90b",
       "version_major": 2,
       "version_minor": 0
      },
      "text/plain": [
       "VBox(children=(Figure(camera=PerspectiveCamera(fov=45.0, position=(-4.499279347985573e-32, -2.0, 3.67394039744…"
      ]
     },
     "metadata": {},
     "output_type": "display_data"
    }
   ],
   "source": [
    "# mesh/surface plot in ipyvolume\n",
    "import numpy as np\n",
    "from ipyvolume import pylab\n",
    "x = np.linspace(-5, 5, 20, True)\n",
    "y = np.linspace(-10, 10, 20, True)\n",
    "xx, yy = np.meshgrid(x, y)\n",
    "z = xx**2/10 + yy**2/20\n",
    "from matplotlib import cm\n",
    "colormap = cm.spring\n",
    "#znorm = z - z.min()\n",
    "znorm = z/z.ptp()\n",
    "#znorm.min(), znorm.max()\n",
    "color = colormap(znorm)\n",
    "pylab.figure(width=350, height=350, lighting=True)\n",
    "pylab.plot_surface(xx, yy, z, color=color[...,:10], wrapx=False, wrapy=False)\n",
    "pylab.plot_wireframe(xx, yy, z, color='green', wrapx=False, wrapy=False)\n",
    "pylab.view(azimuth=None, elevation=None, distance=None)\n",
    "pylab.style.use('light')\n",
    "#pylab.style.axes_off()\n",
    "#pylab.style.use({'axes.x.color':'green'})\n",
    "pylab.xyzlabel('X', 'Y', 'Z')\n",
    "pylab.view(azimuth=180, elevation=270, distance=None)\n",
    "pylab.show()"
   ]
  },
  {
   "cell_type": "code",
   "execution_count": null,
   "metadata": {},
   "outputs": [],
   "source": []
  }
 ],
 "metadata": {
  "kernelspec": {
   "display_name": "Python 3",
   "language": "python",
   "name": "python3"
  },
  "language_info": {
   "codemirror_mode": {
    "name": "ipython",
    "version": 3
   },
   "file_extension": ".py",
   "mimetype": "text/x-python",
   "name": "python",
   "nbconvert_exporter": "python",
   "pygments_lexer": "ipython3",
   "version": "3.7.6"
  }
 },
 "nbformat": 4,
 "nbformat_minor": 4
}
