{
 "cells": [
  {
   "cell_type": "code",
   "execution_count": 1,
   "metadata": {},
   "outputs": [
    {
     "data": {
      "image/png": "[encoded data removed]",
      "text/plain": [
       "<Figure size 432x288 with 1 Axes>"
      ]
     },
     "metadata": {
      "needs_background": "light"
     },
     "output_type": "display_data"
    }
   ],
   "source": [
    "\"\"\"\n",
    "Created on Sat May  9 18:59:33 2020 @author: dadhikar\n",
    "\"\"\"\n",
    "import sys\n",
    "from collections import namedtuple\n",
    "from functools import partial\n",
    "import numpy as np\n",
    "import matplotlib.pyplot as plt\n",
    "import matplotlib.animation as animation\n",
    "\n",
    "\n",
    "fig, ax = plt.subplots()\n",
    "ax.set_xlim(0, 100)\n",
    "ax.set_ylim(0, 10)\n",
    "ax.set_xlabel('X')\n",
    "ax.set_ylabel('Y')\n",
    "line, = ax.plot([], [], c='r', lw=2.0)\n",
    "x_data = []\n",
    "y_data = []\n",
    "\n",
    "def animation_frame(i):\n",
    "    x_data.append(i)\n",
    "    y_data.append(0.1*i)\n",
    "    line.set_xdata(x_data)\n",
    "    line.set_ydata(y_data)\n",
    "    return line,\n",
    "\n",
    "\n",
    "animation = animation.FuncAnimation(fig, func=animation_frame,\n",
    "                          frames=100, interval=100)\n",
    "\n",
    "plt.show()"
   ]
  },
  {
   "cell_type": "code",
   "execution_count": 2,
   "metadata": {},
   "outputs": [],
   "source": [
    "\"\"\"Created on Sun May 10 15:53:11 2020 @author: dadhikar\"\"\"\n",
    "%matplotlib qt4\n",
    "import sys\n",
    "import matplotlib.pyplot as plt\n",
    "from matplotlib.animation import FuncAnimation\n",
    "# import matplotlib.animation as animation\n",
    "\n",
    "\n",
    "# create  backbone of the plot\n",
    "fig = plt.figure(figsize=(5, 5), dpi=150, facecolor=None, edgecolor=None)\n",
    "ax = fig.add_subplot(1,1,1, facecolor='cyan')\n",
    "def animate_frame(i):\n",
    "    data = open('stock_data.txt', 'r+').read()\n",
    "    lines= data.split('\\n')\n",
    "    t = []\n",
    "    stock_price = []\n",
    "    for line in lines:\n",
    "        time, price = line.split(',')\n",
    "        t.append(float(time))\n",
    "        stock_price.append(float(price))\n",
    "    ax.clear()\n",
    "    ax.plot(t, stock_price, ls='-.', lw=0.5, color='r', marker='o', ms=6)\n",
    "    ax.set_xlabel('time [days]')\n",
    "    ax.set_ylabel('stock price [$]')\n",
    "    ax.set_title('stock trend')\n",
    "        \n",
    "    # myfile.close()    \n",
    "\n",
    "#ani = animation.FuncAnimation(fig, animate_frame, interval=1000)\n",
    "animation = FuncAnimation(fig, animate_frame, interval=500)\n",
    "\n",
    "plt.show()\n"
   ]
  }
 ],
 "metadata": {
  "kernelspec": {
   "display_name": "Python 3",
   "language": "python",
   "name": "python3"
  },
  "language_info": {
   "codemirror_mode": {
    "name": "ipython",
    "version": 3
   },
   "file_extension": ".py",
   "mimetype": "text/x-python",
   "name": "python",
   "nbconvert_exporter": "python",
   "pygments_lexer": "ipython3",
   "version": "3.7.6"
  }
 },
 "nbformat": 4,
 "nbformat_minor": 4
}
