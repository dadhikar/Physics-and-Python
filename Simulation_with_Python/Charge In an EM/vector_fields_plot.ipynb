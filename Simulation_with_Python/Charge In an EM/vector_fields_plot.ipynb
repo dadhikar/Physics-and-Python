{
 "cells": [
  {
   "cell_type": "code",
   "execution_count": 4,
   "metadata": {},
   "outputs": [],
   "source": [
    "# plotting electric field vector of a charge particle\n",
    "import sys\n",
    "import matplotlib.pyplot as plt\n",
    "import numpy as np\n",
    " \n",
    "\n",
    "xrange = (-5, 5, 20)\n",
    "yrange = (-5, 5, 20)\n",
    "x, y = np.meshgrid(np.linspace(*xrange), np.linspace(*yrange))\n",
    "\n",
    "r = np.sqrt((x)**2 + (y)**2)\n",
    "theta =np.arctan2(y, x)    \n",
    "q = 1.6e-19      # charge of an electron\n",
    "k = 8.8541878128e-12  # F⋅m−1 (farads per metre)\n",
    "Ex = (k*q*np.cos(theta))/(r**2)\n",
    "Ey = (k*q*np.sin(theta))/(r**2)\n",
    "\n",
    "E = np.sqrt(Ex**2, Ey**2)\n",
    "fig = plt.figure()\n",
    "ax = fig.add_subplot(111)\n",
    "ax.quiver(x, y, Ex, Ey, E, cmap='Dark2')\n",
    "plt.xlabel('X [m]')\n",
    "plt.ylabel('Y [m]')\n",
    "plt.title('Electric Field Vector of a Charge Particle')\n",
    "plt.show()"
   ]
  },
  {
   "cell_type": "code",
   "execution_count": 3,
   "metadata": {},
   "outputs": [
    {
     "name": "stdout",
     "output_type": "stream",
     "text": [
      "Using matplotlib backend: MacOSX\n"
     ]
    }
   ],
   "source": [
    "# plotting magnetic field vector around \n",
    "# a current carrying conductor\n",
    "%matplotlib auto\n",
    "import matplotlib.pyplot as plt\n",
    "import numpy as np\n",
    "from matplotlib.colors import LogNorm\n",
    "from matplotlib import cm\n",
    "\n",
    "xrange = (-2, 2, 30)\n",
    "yrange = (-2, 2, 30)\n",
    "x, y = np.meshgrid(np.linspace(*xrange), np.linspace(*yrange))\n",
    "\n",
    "mu = 2.0e-7\n",
    "I = 50      \n",
    "r2 = (x**2 + y**2)\n",
    "Bx = (-mu*I*y)/(r2)\n",
    "By = (mu*I*x)/(r2)\n",
    "\n",
    "B = np.sqrt(Bx**2 + By**2)\n",
    "plt.figure(figsize=(7,7))\n",
    "norm=LogNorm(vmin=B.min(), vmax=B.max())\n",
    "plt.quiver(x, y, Bx, By, B, norm=norm, cmap='Dark2')\n",
    "plt.xlabel('X [m]')\n",
    "plt.ylabel('Y [m]')\n",
    "plt.title('Magnetic Field Vector around a Current Carrying Wire')\n",
    "plt.colorbar(orientation='vertical')\n",
    "plt.show()"
   ]
  },
  {
   "cell_type": "code",
   "execution_count": null,
   "metadata": {},
   "outputs": [],
   "source": []
  },
  {
   "cell_type": "code",
   "execution_count": null,
   "metadata": {},
   "outputs": [],
   "source": []
  }
 ],
 "metadata": {
  "kernelspec": {
   "display_name": "Python 3",
   "language": "python",
   "name": "python3"
  },
  "language_info": {
   "codemirror_mode": {
    "name": "ipython",
    "version": 3
   },
   "file_extension": ".py",
   "mimetype": "text/x-python",
   "name": "python",
   "nbconvert_exporter": "python",
   "pygments_lexer": "ipython3",
   "version": "3.7.7"
  }
 },
 "nbformat": 4,
 "nbformat_minor": 4
}
